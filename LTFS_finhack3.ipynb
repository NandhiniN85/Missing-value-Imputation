{
  "nbformat": 4,
  "nbformat_minor": 0,
  "metadata": {
    "colab": {
      "name": "LTFS - finhack3.ipynb",
      "provenance": []
    },
    "kernelspec": {
      "display_name": "Python 3",
      "name": "python3"
    }
  },
  "cells": [
    {
      "cell_type": "code",
      "metadata": {
        "colab": {
          "base_uri": "https://localhost:8080/"
        },
        "id": "UXzp-l-4ArUx",
        "outputId": "133f24b9-1861-4486-b335-605b3cfa3d7b"
      },
      "source": [
        "from google.colab import drive\r\n",
        "drive.mount('/content/mydrive')"
      ],
      "execution_count": 259,
      "outputs": [
        {
          "output_type": "stream",
          "text": [
            "Drive already mounted at /content/mydrive; to attempt to forcibly remount, call drive.mount(\"/content/mydrive\", force_remount=True).\n"
          ],
          "name": "stdout"
        }
      ]
    },
    {
      "cell_type": "code",
      "metadata": {
        "colab": {
          "base_uri": "https://localhost:8080/",
          "height": 35
        },
        "id": "8i2UA8zOD7o8",
        "outputId": "96744ee0-bd21-45db-9c66-585dc4cd9d16"
      },
      "source": [
        "#change the current directory to the path where the given file is residing\r\n",
        "import os\r\n",
        "os.chdir('/content/mydrive/My Drive/LTFS FinHack3')\r\n",
        "os.getcwd()"
      ],
      "execution_count": 260,
      "outputs": [
        {
          "output_type": "execute_result",
          "data": {
            "application/vnd.google.colaboratory.intrinsic+json": {
              "type": "string"
            },
            "text/plain": [
              "'/content/mydrive/My Drive/LTFS FinHack3'"
            ]
          },
          "metadata": {
            "tags": []
          },
          "execution_count": 260
        }
      ]
    },
    {
      "cell_type": "markdown",
      "metadata": {
        "id": "-s-xjOaXTBpv"
      },
      "source": [
        "Import necessary libraries."
      ]
    },
    {
      "cell_type": "code",
      "metadata": {
        "id": "kBDOZ_8lExaD"
      },
      "source": [
        "import pandas as pd\r\n",
        "import numpy as np\r\n",
        "from sklearn.model_selection import train_test_split\r\n",
        "from scipy.stats import chi2_contingency\r\n",
        "from datetime import datetime, timedelta\r\n",
        "import scipy.stats as stats\r\n",
        "from statsmodels.formula.api import ols\r\n",
        "import statsmodels.api as sm\r\n",
        "import seaborn as sns\r\n",
        "import matplotlib.pyplot as plt\r\n",
        "from sklearn.experimental import enable_iterative_imputer\r\n",
        "from sklearn.impute import IterativeImputer"
      ],
      "execution_count": 428,
      "outputs": []
    },
    {
      "cell_type": "markdown",
      "metadata": {
        "id": "IusqtOGcTLFa"
      },
      "source": [
        "Read the training dataset and display the header details"
      ]
    },
    {
      "cell_type": "code",
      "metadata": {
        "colab": {
          "base_uri": "https://localhost:8080/",
          "height": 343
        },
        "id": "lIWD4qagEjhR",
        "outputId": "28759061-b1aa-4ef8-b36c-9143039e42fb"
      },
      "source": [
        "train_df = pd.read_excel('train_Data.xlsx')\r\n",
        "\r\n",
        "train_df.head()"
      ],
      "execution_count": 293,
      "outputs": [
        {
          "output_type": "execute_result",
          "data": {
            "text/html": [
              "<div>\n",
              "<style scoped>\n",
              "    .dataframe tbody tr th:only-of-type {\n",
              "        vertical-align: middle;\n",
              "    }\n",
              "\n",
              "    .dataframe tbody tr th {\n",
              "        vertical-align: top;\n",
              "    }\n",
              "\n",
              "    .dataframe thead th {\n",
              "        text-align: right;\n",
              "    }\n",
              "</style>\n",
              "<table border=\"1\" class=\"dataframe\">\n",
              "  <thead>\n",
              "    <tr style=\"text-align: right;\">\n",
              "      <th></th>\n",
              "      <th>ID</th>\n",
              "      <th>Frequency</th>\n",
              "      <th>InstlmentMode</th>\n",
              "      <th>LoanStatus</th>\n",
              "      <th>PaymentMode</th>\n",
              "      <th>BranchID</th>\n",
              "      <th>Area</th>\n",
              "      <th>Tenure</th>\n",
              "      <th>AssetCost</th>\n",
              "      <th>AmountFinance</th>\n",
              "      <th>DisbursalAmount</th>\n",
              "      <th>EMI</th>\n",
              "      <th>DisbursalDate</th>\n",
              "      <th>MaturityDAte</th>\n",
              "      <th>AuthDate</th>\n",
              "      <th>AssetID</th>\n",
              "      <th>ManufacturerID</th>\n",
              "      <th>SupplierID</th>\n",
              "      <th>LTV</th>\n",
              "      <th>SEX</th>\n",
              "      <th>AGE</th>\n",
              "      <th>MonthlyIncome</th>\n",
              "      <th>City</th>\n",
              "      <th>State</th>\n",
              "      <th>ZiPCODE</th>\n",
              "      <th>Top-up Month</th>\n",
              "    </tr>\n",
              "  </thead>\n",
              "  <tbody>\n",
              "    <tr>\n",
              "      <th>0</th>\n",
              "      <td>1</td>\n",
              "      <td>Monthly</td>\n",
              "      <td>Arrear</td>\n",
              "      <td>Closed</td>\n",
              "      <td>PDC_E</td>\n",
              "      <td>1</td>\n",
              "      <td>NaN</td>\n",
              "      <td>48</td>\n",
              "      <td>450000</td>\n",
              "      <td>275000.0</td>\n",
              "      <td>275000.0</td>\n",
              "      <td>24000.0</td>\n",
              "      <td>2012-02-10</td>\n",
              "      <td>2016-01-15</td>\n",
              "      <td>2012-02-10</td>\n",
              "      <td>4022465</td>\n",
              "      <td>1568</td>\n",
              "      <td>21946</td>\n",
              "      <td>61.11</td>\n",
              "      <td>M</td>\n",
              "      <td>49.0</td>\n",
              "      <td>35833.33</td>\n",
              "      <td>RAISEN</td>\n",
              "      <td>MADHYA PRADESH</td>\n",
              "      <td>464993.0</td>\n",
              "      <td>&gt; 48 Months</td>\n",
              "    </tr>\n",
              "    <tr>\n",
              "      <th>1</th>\n",
              "      <td>2</td>\n",
              "      <td>Monthly</td>\n",
              "      <td>Advance</td>\n",
              "      <td>Closed</td>\n",
              "      <td>PDC</td>\n",
              "      <td>333</td>\n",
              "      <td>BHOPAL</td>\n",
              "      <td>47</td>\n",
              "      <td>485000</td>\n",
              "      <td>350000.0</td>\n",
              "      <td>350000.0</td>\n",
              "      <td>10500.0</td>\n",
              "      <td>2012-03-31</td>\n",
              "      <td>2016-02-15</td>\n",
              "      <td>2012-03-31</td>\n",
              "      <td>4681175</td>\n",
              "      <td>1062</td>\n",
              "      <td>34802</td>\n",
              "      <td>70.00</td>\n",
              "      <td>M</td>\n",
              "      <td>23.0</td>\n",
              "      <td>666.67</td>\n",
              "      <td>SEHORE</td>\n",
              "      <td>MADHYA PRADESH</td>\n",
              "      <td>466001.0</td>\n",
              "      <td>No Top-up Service</td>\n",
              "    </tr>\n",
              "    <tr>\n",
              "      <th>2</th>\n",
              "      <td>3</td>\n",
              "      <td>Quatrly</td>\n",
              "      <td>Arrear</td>\n",
              "      <td>Active</td>\n",
              "      <td>Direct Debit</td>\n",
              "      <td>1</td>\n",
              "      <td>NaN</td>\n",
              "      <td>68</td>\n",
              "      <td>690000</td>\n",
              "      <td>519728.0</td>\n",
              "      <td>519728.0</td>\n",
              "      <td>38300.0</td>\n",
              "      <td>2017-06-17</td>\n",
              "      <td>2023-02-10</td>\n",
              "      <td>2017-06-17</td>\n",
              "      <td>25328146</td>\n",
              "      <td>1060</td>\n",
              "      <td>127335</td>\n",
              "      <td>69.77</td>\n",
              "      <td>M</td>\n",
              "      <td>39.0</td>\n",
              "      <td>45257.00</td>\n",
              "      <td>BHOPAL</td>\n",
              "      <td>MADHYA PRADESH</td>\n",
              "      <td>462030.0</td>\n",
              "      <td>12-18 Months</td>\n",
              "    </tr>\n",
              "    <tr>\n",
              "      <th>3</th>\n",
              "      <td>7</td>\n",
              "      <td>Monthly</td>\n",
              "      <td>Advance</td>\n",
              "      <td>Closed</td>\n",
              "      <td>Billed</td>\n",
              "      <td>125</td>\n",
              "      <td>GUNA</td>\n",
              "      <td>48</td>\n",
              "      <td>480000</td>\n",
              "      <td>400000.0</td>\n",
              "      <td>400000.0</td>\n",
              "      <td>11600.0</td>\n",
              "      <td>2013-11-29</td>\n",
              "      <td>2017-11-10</td>\n",
              "      <td>2013-11-29</td>\n",
              "      <td>13021591</td>\n",
              "      <td>1060</td>\n",
              "      <td>25094</td>\n",
              "      <td>80.92</td>\n",
              "      <td>M</td>\n",
              "      <td>24.0</td>\n",
              "      <td>20833.33</td>\n",
              "      <td>ASHOK NAGAR</td>\n",
              "      <td>MADHYA PRADESH</td>\n",
              "      <td>473335.0</td>\n",
              "      <td>&gt; 48 Months</td>\n",
              "    </tr>\n",
              "    <tr>\n",
              "      <th>4</th>\n",
              "      <td>8</td>\n",
              "      <td>Monthly</td>\n",
              "      <td>Arrear</td>\n",
              "      <td>Closed</td>\n",
              "      <td>Billed</td>\n",
              "      <td>152</td>\n",
              "      <td>BILASPUR</td>\n",
              "      <td>44</td>\n",
              "      <td>619265</td>\n",
              "      <td>440000.0</td>\n",
              "      <td>440000.0</td>\n",
              "      <td>15000.0</td>\n",
              "      <td>2011-12-08</td>\n",
              "      <td>2015-07-05</td>\n",
              "      <td>2011-12-08</td>\n",
              "      <td>3291320</td>\n",
              "      <td>1046</td>\n",
              "      <td>21853</td>\n",
              "      <td>71.05</td>\n",
              "      <td>M</td>\n",
              "      <td>56.0</td>\n",
              "      <td>27313.67</td>\n",
              "      <td>BILASPUR</td>\n",
              "      <td>CHATTISGARH</td>\n",
              "      <td>495442.0</td>\n",
              "      <td>36-48 Months</td>\n",
              "    </tr>\n",
              "  </tbody>\n",
              "</table>\n",
              "</div>"
            ],
            "text/plain": [
              "   ID Frequency InstlmentMode  ...           State   ZiPCODE       Top-up Month\n",
              "0   1   Monthly        Arrear  ...  MADHYA PRADESH  464993.0        > 48 Months\n",
              "1   2   Monthly       Advance  ...  MADHYA PRADESH  466001.0  No Top-up Service\n",
              "2   3   Quatrly        Arrear  ...  MADHYA PRADESH  462030.0       12-18 Months\n",
              "3   7   Monthly       Advance  ...  MADHYA PRADESH  473335.0        > 48 Months\n",
              "4   8   Monthly        Arrear  ...     CHATTISGARH  495442.0       36-48 Months\n",
              "\n",
              "[5 rows x 26 columns]"
            ]
          },
          "metadata": {
            "tags": []
          },
          "execution_count": 293
        }
      ]
    },
    {
      "cell_type": "markdown",
      "metadata": {
        "id": "s1MNK8E8am6R"
      },
      "source": [
        "Display the information about the training dataset."
      ]
    },
    {
      "cell_type": "code",
      "metadata": {
        "colab": {
          "base_uri": "https://localhost:8080/"
        },
        "id": "sqZ5L9m3E2uB",
        "outputId": "22289b9d-325d-49b8-ae72-cb632971440e"
      },
      "source": [
        "train_df.info()"
      ],
      "execution_count": 294,
      "outputs": [
        {
          "output_type": "stream",
          "text": [
            "<class 'pandas.core.frame.DataFrame'>\n",
            "RangeIndex: 128655 entries, 0 to 128654\n",
            "Data columns (total 26 columns):\n",
            " #   Column           Non-Null Count   Dtype         \n",
            "---  ------           --------------   -----         \n",
            " 0   ID               128655 non-null  int64         \n",
            " 1   Frequency        128655 non-null  object        \n",
            " 2   InstlmentMode    128655 non-null  object        \n",
            " 3   LoanStatus       128655 non-null  object        \n",
            " 4   PaymentMode      128655 non-null  object        \n",
            " 5   BranchID         128655 non-null  int64         \n",
            " 6   Area             117002 non-null  object        \n",
            " 7   Tenure           128655 non-null  int64         \n",
            " 8   AssetCost        128655 non-null  int64         \n",
            " 9   AmountFinance    128655 non-null  float64       \n",
            " 10  DisbursalAmount  128655 non-null  float64       \n",
            " 11  EMI              128655 non-null  float64       \n",
            " 12  DisbursalDate    128655 non-null  datetime64[ns]\n",
            " 13  MaturityDAte     128654 non-null  datetime64[ns]\n",
            " 14  AuthDate         128655 non-null  datetime64[ns]\n",
            " 15  AssetID          128655 non-null  int64         \n",
            " 16  ManufacturerID   128655 non-null  int64         \n",
            " 17  SupplierID       128655 non-null  int64         \n",
            " 18  LTV              128655 non-null  float64       \n",
            " 19  SEX              128596 non-null  object        \n",
            " 20  AGE              128596 non-null  float64       \n",
            " 21  MonthlyIncome    128421 non-null  float64       \n",
            " 22  City             117399 non-null  object        \n",
            " 23  State            128655 non-null  object        \n",
            " 24  ZiPCODE          128283 non-null  float64       \n",
            " 25  Top-up Month     128655 non-null  object        \n",
            "dtypes: datetime64[ns](3), float64(7), int64(7), object(9)\n",
            "memory usage: 25.5+ MB\n"
          ],
          "name": "stdout"
        }
      ]
    },
    {
      "cell_type": "markdown",
      "metadata": {
        "id": "BeM_IAMnas9f"
      },
      "source": [
        "Before starting the imputation process, we need to figure out which are the fields containing null values."
      ]
    },
    {
      "cell_type": "code",
      "metadata": {
        "colab": {
          "base_uri": "https://localhost:8080/"
        },
        "id": "omUyl1t-E_D1",
        "outputId": "f9254f70-8dc7-44a5-8227-1fcad6c53b93"
      },
      "source": [
        "train_df.isnull().any()"
      ],
      "execution_count": 295,
      "outputs": [
        {
          "output_type": "execute_result",
          "data": {
            "text/plain": [
              "ID                 False\n",
              "Frequency          False\n",
              "InstlmentMode      False\n",
              "LoanStatus         False\n",
              "PaymentMode        False\n",
              "BranchID           False\n",
              "Area                True\n",
              "Tenure             False\n",
              "AssetCost          False\n",
              "AmountFinance      False\n",
              "DisbursalAmount    False\n",
              "EMI                False\n",
              "DisbursalDate      False\n",
              "MaturityDAte        True\n",
              "AuthDate           False\n",
              "AssetID            False\n",
              "ManufacturerID     False\n",
              "SupplierID         False\n",
              "LTV                False\n",
              "SEX                 True\n",
              "AGE                 True\n",
              "MonthlyIncome       True\n",
              "City                True\n",
              "State              False\n",
              "ZiPCODE             True\n",
              "Top-up Month       False\n",
              "dtype: bool"
            ]
          },
          "metadata": {
            "tags": []
          },
          "execution_count": 295
        }
      ]
    },
    {
      "cell_type": "markdown",
      "metadata": {
        "id": "mRfy7mjGa7aE"
      },
      "source": [
        "The fields 'Area', ,'MaturityDAte', 'SEX', 'AGE', 'MonthlyIncome', 'City' and 'ZiPCODE' contain null values."
      ]
    },
    {
      "cell_type": "code",
      "metadata": {
        "colab": {
          "base_uri": "https://localhost:8080/"
        },
        "id": "91in1d0ka1Pl",
        "outputId": "3c8fcda3-ccb3-4d93-82da-c810b44e0c4d"
      },
      "source": [
        "#Let's get the count of null values to check if it is relevant one to perform the imputation\r\n",
        "train_df.isnull().sum()[train_df.isnull().sum() > 0]"
      ],
      "execution_count": 296,
      "outputs": [
        {
          "output_type": "execute_result",
          "data": {
            "text/plain": [
              "Area             11653\n",
              "MaturityDAte         1\n",
              "SEX                 59\n",
              "AGE                 59\n",
              "MonthlyIncome      234\n",
              "City             11256\n",
              "ZiPCODE            372\n",
              "dtype: int64"
            ]
          },
          "metadata": {
            "tags": []
          },
          "execution_count": 296
        }
      ]
    },
    {
      "cell_type": "markdown",
      "metadata": {
        "id": "Oi6EV7z_bSsx"
      },
      "source": [
        "Conclusion: The features 'Area' & 'City' have more null values when compared to other variables with null."
      ]
    },
    {
      "cell_type": "code",
      "metadata": {
        "colab": {
          "base_uri": "https://localhost:8080/"
        },
        "id": "JqphtLqpbJrM",
        "outputId": "f71b3480-3ede-4eb4-d70c-6aa8bff6b910"
      },
      "source": [
        "#print the shape of the training dataset\r\n",
        "print('The shape of the training dataset:', train_df.shape)"
      ],
      "execution_count": 297,
      "outputs": [
        {
          "output_type": "stream",
          "text": [
            "The shape of the training dataset: (128655, 26)\n"
          ],
          "name": "stdout"
        }
      ]
    },
    {
      "cell_type": "markdown",
      "metadata": {
        "id": "dRp8MfBccGuo"
      },
      "source": [
        "We can drop the row with a null value for 'MaturityDAte', as there is only 1 record with empty values."
      ]
    },
    {
      "cell_type": "code",
      "metadata": {
        "colab": {
          "base_uri": "https://localhost:8080/",
          "height": 151
        },
        "id": "X8LA4q00bv-r",
        "outputId": "dfb83dd1-382b-4521-9c14-06968ca757d5"
      },
      "source": [
        "train_df[train_df['MaturityDAte'].isna()]"
      ],
      "execution_count": 298,
      "outputs": [
        {
          "output_type": "execute_result",
          "data": {
            "text/html": [
              "<div>\n",
              "<style scoped>\n",
              "    .dataframe tbody tr th:only-of-type {\n",
              "        vertical-align: middle;\n",
              "    }\n",
              "\n",
              "    .dataframe tbody tr th {\n",
              "        vertical-align: top;\n",
              "    }\n",
              "\n",
              "    .dataframe thead th {\n",
              "        text-align: right;\n",
              "    }\n",
              "</style>\n",
              "<table border=\"1\" class=\"dataframe\">\n",
              "  <thead>\n",
              "    <tr style=\"text-align: right;\">\n",
              "      <th></th>\n",
              "      <th>ID</th>\n",
              "      <th>Frequency</th>\n",
              "      <th>InstlmentMode</th>\n",
              "      <th>LoanStatus</th>\n",
              "      <th>PaymentMode</th>\n",
              "      <th>BranchID</th>\n",
              "      <th>Area</th>\n",
              "      <th>Tenure</th>\n",
              "      <th>AssetCost</th>\n",
              "      <th>AmountFinance</th>\n",
              "      <th>DisbursalAmount</th>\n",
              "      <th>EMI</th>\n",
              "      <th>DisbursalDate</th>\n",
              "      <th>MaturityDAte</th>\n",
              "      <th>AuthDate</th>\n",
              "      <th>AssetID</th>\n",
              "      <th>ManufacturerID</th>\n",
              "      <th>SupplierID</th>\n",
              "      <th>LTV</th>\n",
              "      <th>SEX</th>\n",
              "      <th>AGE</th>\n",
              "      <th>MonthlyIncome</th>\n",
              "      <th>City</th>\n",
              "      <th>State</th>\n",
              "      <th>ZiPCODE</th>\n",
              "      <th>Top-up Month</th>\n",
              "    </tr>\n",
              "  </thead>\n",
              "  <tbody>\n",
              "    <tr>\n",
              "      <th>53392</th>\n",
              "      <td>57606</td>\n",
              "      <td>Monthly</td>\n",
              "      <td>Arrear</td>\n",
              "      <td>Closed</td>\n",
              "      <td>Billed</td>\n",
              "      <td>263</td>\n",
              "      <td>MANDSAUR</td>\n",
              "      <td>45</td>\n",
              "      <td>495000</td>\n",
              "      <td>400000.0</td>\n",
              "      <td>400000.0</td>\n",
              "      <td>0.0</td>\n",
              "      <td>2013-03-15</td>\n",
              "      <td>NaT</td>\n",
              "      <td>2013-03-16</td>\n",
              "      <td>9510810</td>\n",
              "      <td>1046</td>\n",
              "      <td>55150</td>\n",
              "      <td>80.81</td>\n",
              "      <td>M</td>\n",
              "      <td>43.0</td>\n",
              "      <td>41666.67</td>\n",
              "      <td>MANDSAUR</td>\n",
              "      <td>MADHYA PRADESH</td>\n",
              "      <td>458880.0</td>\n",
              "      <td>No Top-up Service</td>\n",
              "    </tr>\n",
              "  </tbody>\n",
              "</table>\n",
              "</div>"
            ],
            "text/plain": [
              "          ID Frequency  ...   ZiPCODE       Top-up Month\n",
              "53392  57606   Monthly  ...  458880.0  No Top-up Service\n",
              "\n",
              "[1 rows x 26 columns]"
            ]
          },
          "metadata": {
            "tags": []
          },
          "execution_count": 298
        }
      ]
    },
    {
      "cell_type": "code",
      "metadata": {
        "id": "P-w0o-P4cVqL"
      },
      "source": [
        "#drop the value\r\n",
        "maturity_index = train_df[train_df['MaturityDAte'].isna()].index.values"
      ],
      "execution_count": 299,
      "outputs": []
    },
    {
      "cell_type": "code",
      "metadata": {
        "colab": {
          "base_uri": "https://localhost:8080/"
        },
        "id": "2r--DuV2dS5y",
        "outputId": "0ed7ba3e-3bae-41dd-cc54-8f980373385e"
      },
      "source": [
        "maturity_index"
      ],
      "execution_count": 300,
      "outputs": [
        {
          "output_type": "execute_result",
          "data": {
            "text/plain": [
              "array([53392])"
            ]
          },
          "metadata": {
            "tags": []
          },
          "execution_count": 300
        }
      ]
    },
    {
      "cell_type": "code",
      "metadata": {
        "colab": {
          "base_uri": "https://localhost:8080/"
        },
        "id": "DNQYwKQueb0R",
        "outputId": "7c947c33-9997-433f-e777-b756b107de54"
      },
      "source": [
        "print('The shape of training dataset before dropping the index:', train_df.shape)"
      ],
      "execution_count": 301,
      "outputs": [
        {
          "output_type": "stream",
          "text": [
            "The shape of training dataset before dropping the index: (128655, 26)\n"
          ],
          "name": "stdout"
        }
      ]
    },
    {
      "cell_type": "code",
      "metadata": {
        "id": "ILfgiAordZkf"
      },
      "source": [
        "train_df.drop(maturity_index, inplace=True)"
      ],
      "execution_count": 302,
      "outputs": []
    },
    {
      "cell_type": "code",
      "metadata": {
        "colab": {
          "base_uri": "https://localhost:8080/"
        },
        "id": "ymOfJuVweON0",
        "outputId": "5d5dc7f8-d548-481d-b84d-ff7658cd2c9f"
      },
      "source": [
        "print('The shape of training dataset after dropping the index:', train_df.shape)"
      ],
      "execution_count": 303,
      "outputs": [
        {
          "output_type": "stream",
          "text": [
            "The shape of training dataset after dropping the index: (128654, 26)\n"
          ],
          "name": "stdout"
        }
      ]
    },
    {
      "cell_type": "code",
      "metadata": {
        "id": "OsxnmA9DfKTg"
      },
      "source": [
        "missing_count = pd.DataFrame(train_df.isnull().sum()[train_df.isnull().sum() > 0], columns=['Null_counts'])"
      ],
      "execution_count": 304,
      "outputs": []
    },
    {
      "cell_type": "code",
      "metadata": {
        "colab": {
          "base_uri": "https://localhost:8080/",
          "height": 233
        },
        "id": "Y6fQFEeS_Jt8",
        "outputId": "ac0e789d-7da2-4ec2-8aed-43984d092c58"
      },
      "source": [
        "missing_count"
      ],
      "execution_count": 305,
      "outputs": [
        {
          "output_type": "execute_result",
          "data": {
            "text/html": [
              "<div>\n",
              "<style scoped>\n",
              "    .dataframe tbody tr th:only-of-type {\n",
              "        vertical-align: middle;\n",
              "    }\n",
              "\n",
              "    .dataframe tbody tr th {\n",
              "        vertical-align: top;\n",
              "    }\n",
              "\n",
              "    .dataframe thead th {\n",
              "        text-align: right;\n",
              "    }\n",
              "</style>\n",
              "<table border=\"1\" class=\"dataframe\">\n",
              "  <thead>\n",
              "    <tr style=\"text-align: right;\">\n",
              "      <th></th>\n",
              "      <th>Null_counts</th>\n",
              "    </tr>\n",
              "  </thead>\n",
              "  <tbody>\n",
              "    <tr>\n",
              "      <th>Area</th>\n",
              "      <td>11653</td>\n",
              "    </tr>\n",
              "    <tr>\n",
              "      <th>SEX</th>\n",
              "      <td>59</td>\n",
              "    </tr>\n",
              "    <tr>\n",
              "      <th>AGE</th>\n",
              "      <td>59</td>\n",
              "    </tr>\n",
              "    <tr>\n",
              "      <th>MonthlyIncome</th>\n",
              "      <td>234</td>\n",
              "    </tr>\n",
              "    <tr>\n",
              "      <th>City</th>\n",
              "      <td>11256</td>\n",
              "    </tr>\n",
              "    <tr>\n",
              "      <th>ZiPCODE</th>\n",
              "      <td>372</td>\n",
              "    </tr>\n",
              "  </tbody>\n",
              "</table>\n",
              "</div>"
            ],
            "text/plain": [
              "               Null_counts\n",
              "Area                 11653\n",
              "SEX                     59\n",
              "AGE                     59\n",
              "MonthlyIncome          234\n",
              "City                 11256\n",
              "ZiPCODE                372"
            ]
          },
          "metadata": {
            "tags": []
          },
          "execution_count": 305
        }
      ]
    },
    {
      "cell_type": "code",
      "metadata": {
        "colab": {
          "base_uri": "https://localhost:8080/",
          "height": 233
        },
        "id": "5_miuR4x-0Yi",
        "outputId": "6b6d4779-f7e5-42d0-9b73-2f61fdde7ac0"
      },
      "source": [
        "#Let's see the percentage of the missing values in each variable when compared to the total count\r\n",
        "missing_count['Null%'] = missing_count*100/train_df.shape[0]\r\n",
        "missing_count\r\n"
      ],
      "execution_count": 306,
      "outputs": [
        {
          "output_type": "execute_result",
          "data": {
            "text/html": [
              "<div>\n",
              "<style scoped>\n",
              "    .dataframe tbody tr th:only-of-type {\n",
              "        vertical-align: middle;\n",
              "    }\n",
              "\n",
              "    .dataframe tbody tr th {\n",
              "        vertical-align: top;\n",
              "    }\n",
              "\n",
              "    .dataframe thead th {\n",
              "        text-align: right;\n",
              "    }\n",
              "</style>\n",
              "<table border=\"1\" class=\"dataframe\">\n",
              "  <thead>\n",
              "    <tr style=\"text-align: right;\">\n",
              "      <th></th>\n",
              "      <th>Null_counts</th>\n",
              "      <th>Null%</th>\n",
              "    </tr>\n",
              "  </thead>\n",
              "  <tbody>\n",
              "    <tr>\n",
              "      <th>Area</th>\n",
              "      <td>11653</td>\n",
              "      <td>9.057627</td>\n",
              "    </tr>\n",
              "    <tr>\n",
              "      <th>SEX</th>\n",
              "      <td>59</td>\n",
              "      <td>0.045859</td>\n",
              "    </tr>\n",
              "    <tr>\n",
              "      <th>AGE</th>\n",
              "      <td>59</td>\n",
              "      <td>0.045859</td>\n",
              "    </tr>\n",
              "    <tr>\n",
              "      <th>MonthlyIncome</th>\n",
              "      <td>234</td>\n",
              "      <td>0.181883</td>\n",
              "    </tr>\n",
              "    <tr>\n",
              "      <th>City</th>\n",
              "      <td>11256</td>\n",
              "      <td>8.749048</td>\n",
              "    </tr>\n",
              "    <tr>\n",
              "      <th>ZiPCODE</th>\n",
              "      <td>372</td>\n",
              "      <td>0.289148</td>\n",
              "    </tr>\n",
              "  </tbody>\n",
              "</table>\n",
              "</div>"
            ],
            "text/plain": [
              "               Null_counts     Null%\n",
              "Area                 11653  9.057627\n",
              "SEX                     59  0.045859\n",
              "AGE                     59  0.045859\n",
              "MonthlyIncome          234  0.181883\n",
              "City                 11256  8.749048\n",
              "ZiPCODE                372  0.289148"
            ]
          },
          "metadata": {
            "tags": []
          },
          "execution_count": 306
        }
      ]
    },
    {
      "cell_type": "markdown",
      "metadata": {
        "id": "yYRVjgeRFCSm"
      },
      "source": [
        "Area has the maximum percentage in the missing values almost 9%.Except 'MonthlyIncome' all of the data are categorical."
      ]
    },
    {
      "cell_type": "code",
      "metadata": {
        "id": "7qdUu6pbfSBC"
      },
      "source": [
        "#now check if more than one fields carry null values at the same time.\r\n",
        "null_df = pd.DataFrame([], columns=['feature_name1', 'feature_name2', 'null_count'])\r\n",
        "index = 0\r\n",
        "\r\n",
        "null_cols = ['Area', 'SEX', 'AGE', 'MonthlyIncome', 'City', 'ZiPCODE']\r\n",
        "for i in null_cols:\r\n",
        "  for j in null_cols:\r\n",
        "    if i != j:\r\n",
        "      #check whether the combination is already present, if yes then no updates required\r\n",
        "      count = null_df[(null_df['feature_name1'] == j) & (null_df['feature_name2'] == i)].count().values\r\n",
        "      if count[0]!= 1:\r\n",
        "        null_df.loc[index, 'feature_name1'] = i\r\n",
        "        null_df.loc[index, 'feature_name2'] = j\r\n",
        "        null_df.loc[index, 'null_count'] = train_df[train_df[i].isna()][j].isna().sum()\r\n",
        "        index += 1    \r\n"
      ],
      "execution_count": 307,
      "outputs": []
    },
    {
      "cell_type": "code",
      "metadata": {
        "colab": {
          "base_uri": "https://localhost:8080/",
          "height": 509
        },
        "id": "SqxbEw-A5BbI",
        "outputId": "9211381d-283c-406f-82f1-1de372acbe29"
      },
      "source": [
        "null_df"
      ],
      "execution_count": 308,
      "outputs": [
        {
          "output_type": "execute_result",
          "data": {
            "text/html": [
              "<div>\n",
              "<style scoped>\n",
              "    .dataframe tbody tr th:only-of-type {\n",
              "        vertical-align: middle;\n",
              "    }\n",
              "\n",
              "    .dataframe tbody tr th {\n",
              "        vertical-align: top;\n",
              "    }\n",
              "\n",
              "    .dataframe thead th {\n",
              "        text-align: right;\n",
              "    }\n",
              "</style>\n",
              "<table border=\"1\" class=\"dataframe\">\n",
              "  <thead>\n",
              "    <tr style=\"text-align: right;\">\n",
              "      <th></th>\n",
              "      <th>feature_name1</th>\n",
              "      <th>feature_name2</th>\n",
              "      <th>null_count</th>\n",
              "    </tr>\n",
              "  </thead>\n",
              "  <tbody>\n",
              "    <tr>\n",
              "      <th>0</th>\n",
              "      <td>Area</td>\n",
              "      <td>SEX</td>\n",
              "      <td>5</td>\n",
              "    </tr>\n",
              "    <tr>\n",
              "      <th>1</th>\n",
              "      <td>Area</td>\n",
              "      <td>AGE</td>\n",
              "      <td>5</td>\n",
              "    </tr>\n",
              "    <tr>\n",
              "      <th>2</th>\n",
              "      <td>Area</td>\n",
              "      <td>MonthlyIncome</td>\n",
              "      <td>24</td>\n",
              "    </tr>\n",
              "    <tr>\n",
              "      <th>3</th>\n",
              "      <td>Area</td>\n",
              "      <td>City</td>\n",
              "      <td>1505</td>\n",
              "    </tr>\n",
              "    <tr>\n",
              "      <th>4</th>\n",
              "      <td>Area</td>\n",
              "      <td>ZiPCODE</td>\n",
              "      <td>48</td>\n",
              "    </tr>\n",
              "    <tr>\n",
              "      <th>5</th>\n",
              "      <td>SEX</td>\n",
              "      <td>AGE</td>\n",
              "      <td>59</td>\n",
              "    </tr>\n",
              "    <tr>\n",
              "      <th>6</th>\n",
              "      <td>SEX</td>\n",
              "      <td>MonthlyIncome</td>\n",
              "      <td>53</td>\n",
              "    </tr>\n",
              "    <tr>\n",
              "      <th>7</th>\n",
              "      <td>SEX</td>\n",
              "      <td>City</td>\n",
              "      <td>3</td>\n",
              "    </tr>\n",
              "    <tr>\n",
              "      <th>8</th>\n",
              "      <td>SEX</td>\n",
              "      <td>ZiPCODE</td>\n",
              "      <td>1</td>\n",
              "    </tr>\n",
              "    <tr>\n",
              "      <th>9</th>\n",
              "      <td>AGE</td>\n",
              "      <td>MonthlyIncome</td>\n",
              "      <td>53</td>\n",
              "    </tr>\n",
              "    <tr>\n",
              "      <th>10</th>\n",
              "      <td>AGE</td>\n",
              "      <td>City</td>\n",
              "      <td>3</td>\n",
              "    </tr>\n",
              "    <tr>\n",
              "      <th>11</th>\n",
              "      <td>AGE</td>\n",
              "      <td>ZiPCODE</td>\n",
              "      <td>1</td>\n",
              "    </tr>\n",
              "    <tr>\n",
              "      <th>12</th>\n",
              "      <td>MonthlyIncome</td>\n",
              "      <td>City</td>\n",
              "      <td>134</td>\n",
              "    </tr>\n",
              "    <tr>\n",
              "      <th>13</th>\n",
              "      <td>MonthlyIncome</td>\n",
              "      <td>ZiPCODE</td>\n",
              "      <td>1</td>\n",
              "    </tr>\n",
              "    <tr>\n",
              "      <th>14</th>\n",
              "      <td>City</td>\n",
              "      <td>ZiPCODE</td>\n",
              "      <td>344</td>\n",
              "    </tr>\n",
              "  </tbody>\n",
              "</table>\n",
              "</div>"
            ],
            "text/plain": [
              "    feature_name1  feature_name2 null_count\n",
              "0            Area            SEX          5\n",
              "1            Area            AGE          5\n",
              "2            Area  MonthlyIncome         24\n",
              "3            Area           City       1505\n",
              "4            Area        ZiPCODE         48\n",
              "5             SEX            AGE         59\n",
              "6             SEX  MonthlyIncome         53\n",
              "7             SEX           City          3\n",
              "8             SEX        ZiPCODE          1\n",
              "9             AGE  MonthlyIncome         53\n",
              "10            AGE           City          3\n",
              "11            AGE        ZiPCODE          1\n",
              "12  MonthlyIncome           City        134\n",
              "13  MonthlyIncome        ZiPCODE          1\n",
              "14           City        ZiPCODE        344"
            ]
          },
          "metadata": {
            "tags": []
          },
          "execution_count": 308
        }
      ]
    },
    {
      "cell_type": "markdown",
      "metadata": {
        "id": "zVCRqhLDGzoS"
      },
      "source": [
        "One notable observation here is the fields 'Area', 'City' and 'ZiPCODE' are all interlinked. Let's apply chi-squared test to see the correlation between these variables. If they have strong dependencies, then only one feature can be retained and rest of them can be dropped."
      ]
    },
    {
      "cell_type": "code",
      "metadata": {
        "colab": {
          "base_uri": "https://localhost:8080/",
          "height": 233
        },
        "id": "HbhqPPKj8wBs",
        "outputId": "8e05938c-44d1-4253-ef45-1ab3664e9c3e"
      },
      "source": [
        "#from the input file, we can find two more variables related to location and they are State and BranchID\r\n",
        "obj_cols = ['Area', 'City', 'ZiPCODE', 'State', 'BranchID', 'Top-up Month']\r\n",
        "\r\n",
        "\r\n",
        "chisquare_df = pd.DataFrame([], columns=obj_cols, index = obj_cols)\r\n",
        "#calculate the pvalue from chisquare stats\r\n",
        "for i in obj_cols:            \r\n",
        "    for j in obj_cols:            \r\n",
        "        cont = pd.crosstab(train_df[i], train_df[j])  \r\n",
        "        chisquare_df.loc[i,j] = chi2_contingency(cont)[1]        \r\n",
        "\r\n",
        "chisquare_df"
      ],
      "execution_count": 309,
      "outputs": [
        {
          "output_type": "execute_result",
          "data": {
            "text/html": [
              "<div>\n",
              "<style scoped>\n",
              "    .dataframe tbody tr th:only-of-type {\n",
              "        vertical-align: middle;\n",
              "    }\n",
              "\n",
              "    .dataframe tbody tr th {\n",
              "        vertical-align: top;\n",
              "    }\n",
              "\n",
              "    .dataframe thead th {\n",
              "        text-align: right;\n",
              "    }\n",
              "</style>\n",
              "<table border=\"1\" class=\"dataframe\">\n",
              "  <thead>\n",
              "    <tr style=\"text-align: right;\">\n",
              "      <th></th>\n",
              "      <th>Area</th>\n",
              "      <th>City</th>\n",
              "      <th>ZiPCODE</th>\n",
              "      <th>State</th>\n",
              "      <th>BranchID</th>\n",
              "      <th>Top-up Month</th>\n",
              "    </tr>\n",
              "  </thead>\n",
              "  <tbody>\n",
              "    <tr>\n",
              "      <th>Area</th>\n",
              "      <td>0</td>\n",
              "      <td>0</td>\n",
              "      <td>0</td>\n",
              "      <td>0</td>\n",
              "      <td>0</td>\n",
              "      <td>0</td>\n",
              "    </tr>\n",
              "    <tr>\n",
              "      <th>City</th>\n",
              "      <td>0</td>\n",
              "      <td>0</td>\n",
              "      <td>0</td>\n",
              "      <td>0</td>\n",
              "      <td>0</td>\n",
              "      <td>0</td>\n",
              "    </tr>\n",
              "    <tr>\n",
              "      <th>ZiPCODE</th>\n",
              "      <td>0</td>\n",
              "      <td>0</td>\n",
              "      <td>0</td>\n",
              "      <td>0</td>\n",
              "      <td>0</td>\n",
              "      <td>0</td>\n",
              "    </tr>\n",
              "    <tr>\n",
              "      <th>State</th>\n",
              "      <td>0</td>\n",
              "      <td>0</td>\n",
              "      <td>0</td>\n",
              "      <td>0</td>\n",
              "      <td>0</td>\n",
              "      <td>0</td>\n",
              "    </tr>\n",
              "    <tr>\n",
              "      <th>BranchID</th>\n",
              "      <td>0</td>\n",
              "      <td>0</td>\n",
              "      <td>0</td>\n",
              "      <td>0</td>\n",
              "      <td>0</td>\n",
              "      <td>0</td>\n",
              "    </tr>\n",
              "    <tr>\n",
              "      <th>Top-up Month</th>\n",
              "      <td>0</td>\n",
              "      <td>0</td>\n",
              "      <td>0</td>\n",
              "      <td>0</td>\n",
              "      <td>0</td>\n",
              "      <td>0</td>\n",
              "    </tr>\n",
              "  </tbody>\n",
              "</table>\n",
              "</div>"
            ],
            "text/plain": [
              "             Area City ZiPCODE State BranchID Top-up Month\n",
              "Area            0    0       0     0        0            0\n",
              "City            0    0       0     0        0            0\n",
              "ZiPCODE         0    0       0     0        0            0\n",
              "State           0    0       0     0        0            0\n",
              "BranchID        0    0       0     0        0            0\n",
              "Top-up Month    0    0       0     0        0            0"
            ]
          },
          "metadata": {
            "tags": []
          },
          "execution_count": 309
        }
      ]
    },
    {
      "cell_type": "markdown",
      "metadata": {
        "id": "d_zDHS97L9Wn"
      },
      "source": [
        "All of the features are strongly correlated with the target variable 'Top-up Month'. On top of that, the predictors 'Area', 'City' and 'ZiPCODE' are strongly related to one another.  \r\n",
        "\r\n",
        "So it would be suffice to retain only one rather that all three. "
      ]
    },
    {
      "cell_type": "code",
      "metadata": {
        "colab": {
          "base_uri": "https://localhost:8080/"
        },
        "id": "0LZt49j_IDWG",
        "outputId": "e3f5cd6c-4816-474c-d7b1-0e525e0cfe3a"
      },
      "source": [
        "#Now comes the question of which one to retain. For that we need to group the variables and see how unique the values are.\r\n",
        "print('unique count of  Area:', train_df['Area'].nunique())\r\n",
        "print('unique count for City:', train_df['City'].nunique())\r\n",
        "print('unique count for ZiPCODE:', train_df['ZiPCODE'].nunique())\r\n",
        "print('unique count for State:', train_df['State'].nunique())\r\n",
        "print('unique count for BranchID:', train_df['BranchID'].nunique())"
      ],
      "execution_count": 310,
      "outputs": [
        {
          "output_type": "stream",
          "text": [
            "unique count of  Area: 92\n",
            "unique count for City: 488\n",
            "unique count for ZiPCODE: 9123\n",
            "unique count for State: 22\n",
            "unique count for BranchID: 189\n"
          ],
          "name": "stdout"
        }
      ]
    },
    {
      "cell_type": "markdown",
      "metadata": {
        "id": "xO4Pxk35uZEk"
      },
      "source": [
        "We know that when there are too many values involved in the categorical variable, then the model tends to overfit. \r\n",
        "\r\n",
        "Let's take the ZiPCODE, we do not have sufficient records for all the zipcodes(recollecting the feature and the input training sample ratio)"
      ]
    },
    {
      "cell_type": "code",
      "metadata": {
        "id": "2SCbqY9ctpMy"
      },
      "source": [
        "#displaying how the data counts are spread across various zipcodes\r\n",
        "zip_count = pd.DataFrame(train_df['ZiPCODE'].value_counts())"
      ],
      "execution_count": 311,
      "outputs": []
    },
    {
      "cell_type": "code",
      "metadata": {
        "colab": {
          "base_uri": "https://localhost:8080/",
          "height": 415
        },
        "id": "ANN5LBFhu3j2",
        "outputId": "e74c5259-deab-4358-a604-605fba2c7dba"
      },
      "source": [
        "zip_count[zip_count['ZiPCODE'] < 20]"
      ],
      "execution_count": 312,
      "outputs": [
        {
          "output_type": "execute_result",
          "data": {
            "text/html": [
              "<div>\n",
              "<style scoped>\n",
              "    .dataframe tbody tr th:only-of-type {\n",
              "        vertical-align: middle;\n",
              "    }\n",
              "\n",
              "    .dataframe tbody tr th {\n",
              "        vertical-align: top;\n",
              "    }\n",
              "\n",
              "    .dataframe thead th {\n",
              "        text-align: right;\n",
              "    }\n",
              "</style>\n",
              "<table border=\"1\" class=\"dataframe\">\n",
              "  <thead>\n",
              "    <tr style=\"text-align: right;\">\n",
              "      <th></th>\n",
              "      <th>ZiPCODE</th>\n",
              "    </tr>\n",
              "  </thead>\n",
              "  <tbody>\n",
              "    <tr>\n",
              "      <th>136034.0</th>\n",
              "      <td>19</td>\n",
              "    </tr>\n",
              "    <tr>\n",
              "      <th>505455.0</th>\n",
              "      <td>19</td>\n",
              "    </tr>\n",
              "    <tr>\n",
              "      <th>284203.0</th>\n",
              "      <td>19</td>\n",
              "    </tr>\n",
              "    <tr>\n",
              "      <th>712601.0</th>\n",
              "      <td>19</td>\n",
              "    </tr>\n",
              "    <tr>\n",
              "      <th>844122.0</th>\n",
              "      <td>19</td>\n",
              "    </tr>\n",
              "    <tr>\n",
              "      <th>...</th>\n",
              "      <td>...</td>\n",
              "    </tr>\n",
              "    <tr>\n",
              "      <th>583234.0</th>\n",
              "      <td>1</td>\n",
              "    </tr>\n",
              "    <tr>\n",
              "      <th>583233.0</th>\n",
              "      <td>1</td>\n",
              "    </tr>\n",
              "    <tr>\n",
              "      <th>583215.0</th>\n",
              "      <td>1</td>\n",
              "    </tr>\n",
              "    <tr>\n",
              "      <th>244104.0</th>\n",
              "      <td>1</td>\n",
              "    </tr>\n",
              "    <tr>\n",
              "      <th>524299.0</th>\n",
              "      <td>1</td>\n",
              "    </tr>\n",
              "  </tbody>\n",
              "</table>\n",
              "<p>7354 rows × 1 columns</p>\n",
              "</div>"
            ],
            "text/plain": [
              "          ZiPCODE\n",
              "136034.0       19\n",
              "505455.0       19\n",
              "284203.0       19\n",
              "712601.0       19\n",
              "844122.0       19\n",
              "...           ...\n",
              "583234.0        1\n",
              "583233.0        1\n",
              "583215.0        1\n",
              "244104.0        1\n",
              "524299.0        1\n",
              "\n",
              "[7354 rows x 1 columns]"
            ]
          },
          "metadata": {
            "tags": []
          },
          "execution_count": 312
        }
      ]
    },
    {
      "cell_type": "markdown",
      "metadata": {
        "id": "zLRs-6hXvT-S"
      },
      "source": [
        "Out of 9123 records 7354 rows are having very small values with a cutoff of 20. So definitely ZipCode is not the right choice as incorporating the variable will overfit the data."
      ]
    },
    {
      "cell_type": "code",
      "metadata": {
        "colab": {
          "base_uri": "https://localhost:8080/",
          "height": 415
        },
        "id": "6MYEDIZ4u-_w",
        "outputId": "3d14b253-ced0-4602-eea8-13b23b3b3ddb"
      },
      "source": [
        "#we repeat the same logic for Area, City, State and BranchID\r\n",
        "City_count = pd.DataFrame(train_df['City'].value_counts())\r\n",
        "City_count[City_count['City'] < 20]"
      ],
      "execution_count": 313,
      "outputs": [
        {
          "output_type": "execute_result",
          "data": {
            "text/html": [
              "<div>\n",
              "<style scoped>\n",
              "    .dataframe tbody tr th:only-of-type {\n",
              "        vertical-align: middle;\n",
              "    }\n",
              "\n",
              "    .dataframe tbody tr th {\n",
              "        vertical-align: top;\n",
              "    }\n",
              "\n",
              "    .dataframe thead th {\n",
              "        text-align: right;\n",
              "    }\n",
              "</style>\n",
              "<table border=\"1\" class=\"dataframe\">\n",
              "  <thead>\n",
              "    <tr style=\"text-align: right;\">\n",
              "      <th></th>\n",
              "      <th>City</th>\n",
              "    </tr>\n",
              "  </thead>\n",
              "  <tbody>\n",
              "    <tr>\n",
              "      <th>JHABUA</th>\n",
              "      <td>19</td>\n",
              "    </tr>\n",
              "    <tr>\n",
              "      <th>RAMPURHAT</th>\n",
              "      <td>19</td>\n",
              "    </tr>\n",
              "    <tr>\n",
              "      <th>ALIGARH</th>\n",
              "      <td>19</td>\n",
              "    </tr>\n",
              "    <tr>\n",
              "      <th>MANVI</th>\n",
              "      <td>18</td>\n",
              "    </tr>\n",
              "    <tr>\n",
              "      <th>GADCHIROLI</th>\n",
              "      <td>18</td>\n",
              "    </tr>\n",
              "    <tr>\n",
              "      <th>...</th>\n",
              "      <td>...</td>\n",
              "    </tr>\n",
              "    <tr>\n",
              "      <th>Cuttack</th>\n",
              "      <td>1</td>\n",
              "    </tr>\n",
              "    <tr>\n",
              "      <th>SECUNDARABAD</th>\n",
              "      <td>1</td>\n",
              "    </tr>\n",
              "    <tr>\n",
              "      <th>MUZAFFARNAGAR</th>\n",
              "      <td>1</td>\n",
              "    </tr>\n",
              "    <tr>\n",
              "      <th>GODDA</th>\n",
              "      <td>1</td>\n",
              "    </tr>\n",
              "    <tr>\n",
              "      <th>BANKA</th>\n",
              "      <td>1</td>\n",
              "    </tr>\n",
              "  </tbody>\n",
              "</table>\n",
              "<p>153 rows × 1 columns</p>\n",
              "</div>"
            ],
            "text/plain": [
              "               City\n",
              "JHABUA           19\n",
              "RAMPURHAT        19\n",
              "ALIGARH          19\n",
              "MANVI            18\n",
              "GADCHIROLI       18\n",
              "...             ...\n",
              "Cuttack           1\n",
              "SECUNDARABAD      1\n",
              "MUZAFFARNAGAR     1\n",
              "GODDA             1\n",
              "BANKA             1\n",
              "\n",
              "[153 rows x 1 columns]"
            ]
          },
          "metadata": {
            "tags": []
          },
          "execution_count": 313
        }
      ]
    },
    {
      "cell_type": "markdown",
      "metadata": {
        "id": "OsujfWF0weUu"
      },
      "source": [
        "Again out of 488 records, 153 has less number of training instances. "
      ]
    },
    {
      "cell_type": "code",
      "metadata": {
        "colab": {
          "base_uri": "https://localhost:8080/",
          "height": 723
        },
        "id": "cWRU1bgqww-Z",
        "outputId": "eb0c5973-016b-4ce5-c009-39af868b1226"
      },
      "source": [
        "State_count = pd.DataFrame(train_df['State'].value_counts())\r\n",
        "State_count"
      ],
      "execution_count": 314,
      "outputs": [
        {
          "output_type": "execute_result",
          "data": {
            "text/html": [
              "<div>\n",
              "<style scoped>\n",
              "    .dataframe tbody tr th:only-of-type {\n",
              "        vertical-align: middle;\n",
              "    }\n",
              "\n",
              "    .dataframe tbody tr th {\n",
              "        vertical-align: top;\n",
              "    }\n",
              "\n",
              "    .dataframe thead th {\n",
              "        text-align: right;\n",
              "    }\n",
              "</style>\n",
              "<table border=\"1\" class=\"dataframe\">\n",
              "  <thead>\n",
              "    <tr style=\"text-align: right;\">\n",
              "      <th></th>\n",
              "      <th>State</th>\n",
              "    </tr>\n",
              "  </thead>\n",
              "  <tbody>\n",
              "    <tr>\n",
              "      <th>MADHYA PRADESH</th>\n",
              "      <td>19121</td>\n",
              "    </tr>\n",
              "    <tr>\n",
              "      <th>ANDHRA PRADESH</th>\n",
              "      <td>18629</td>\n",
              "    </tr>\n",
              "    <tr>\n",
              "      <th>UTTAR PRADESH</th>\n",
              "      <td>14449</td>\n",
              "    </tr>\n",
              "    <tr>\n",
              "      <th>KARNATAKA</th>\n",
              "      <td>11569</td>\n",
              "    </tr>\n",
              "    <tr>\n",
              "      <th>GUJARAT</th>\n",
              "      <td>10088</td>\n",
              "    </tr>\n",
              "    <tr>\n",
              "      <th>RAJASTHAN</th>\n",
              "      <td>9668</td>\n",
              "    </tr>\n",
              "    <tr>\n",
              "      <th>MAHARASHTRA</th>\n",
              "      <td>9083</td>\n",
              "    </tr>\n",
              "    <tr>\n",
              "      <th>HARYANA</th>\n",
              "      <td>9060</td>\n",
              "    </tr>\n",
              "    <tr>\n",
              "      <th>PUNJAB</th>\n",
              "      <td>6420</td>\n",
              "    </tr>\n",
              "    <tr>\n",
              "      <th>WEST BENGAL</th>\n",
              "      <td>5557</td>\n",
              "    </tr>\n",
              "    <tr>\n",
              "      <th>CHATTISGARH</th>\n",
              "      <td>5448</td>\n",
              "    </tr>\n",
              "    <tr>\n",
              "      <th>BIHAR</th>\n",
              "      <td>3913</td>\n",
              "    </tr>\n",
              "    <tr>\n",
              "      <th>TELANGANA</th>\n",
              "      <td>2783</td>\n",
              "    </tr>\n",
              "    <tr>\n",
              "      <th>ORISSA</th>\n",
              "      <td>2739</td>\n",
              "    </tr>\n",
              "    <tr>\n",
              "      <th>HIMACHAL PRADESH</th>\n",
              "      <td>74</td>\n",
              "    </tr>\n",
              "    <tr>\n",
              "      <th>JHARKHAND</th>\n",
              "      <td>21</td>\n",
              "    </tr>\n",
              "    <tr>\n",
              "      <th>UTTARAKHAND</th>\n",
              "      <td>12</td>\n",
              "    </tr>\n",
              "    <tr>\n",
              "      <th>ASSAM</th>\n",
              "      <td>10</td>\n",
              "    </tr>\n",
              "    <tr>\n",
              "      <th>DELHI</th>\n",
              "      <td>6</td>\n",
              "    </tr>\n",
              "    <tr>\n",
              "      <th>CHANDIGARH</th>\n",
              "      <td>2</td>\n",
              "    </tr>\n",
              "    <tr>\n",
              "      <th>DADRA AND NAGAR HAVELI</th>\n",
              "      <td>1</td>\n",
              "    </tr>\n",
              "    <tr>\n",
              "      <th>TAMIL NADU</th>\n",
              "      <td>1</td>\n",
              "    </tr>\n",
              "  </tbody>\n",
              "</table>\n",
              "</div>"
            ],
            "text/plain": [
              "                        State\n",
              "MADHYA PRADESH          19121\n",
              "ANDHRA PRADESH          18629\n",
              "UTTAR PRADESH           14449\n",
              "KARNATAKA               11569\n",
              "GUJARAT                 10088\n",
              "RAJASTHAN                9668\n",
              "MAHARASHTRA              9083\n",
              "HARYANA                  9060\n",
              "PUNJAB                   6420\n",
              "WEST BENGAL              5557\n",
              "CHATTISGARH              5448\n",
              "BIHAR                    3913\n",
              "TELANGANA                2783\n",
              "ORISSA                   2739\n",
              "HIMACHAL PRADESH           74\n",
              "JHARKHAND                  21\n",
              "UTTARAKHAND                12\n",
              "ASSAM                      10\n",
              "DELHI                       6\n",
              "CHANDIGARH                  2\n",
              "DADRA AND NAGAR HAVELI      1\n",
              "TAMIL NADU                  1"
            ]
          },
          "metadata": {
            "tags": []
          },
          "execution_count": 314
        }
      ]
    },
    {
      "cell_type": "markdown",
      "metadata": {
        "id": "AidAZNELxhcE"
      },
      "source": [
        "Finally we can better go with the state which has some desirable counts. \r\n",
        "\r\n",
        "Note: There is a another approach of handling low occurence values (i.e) via binning where we combine the least frequent values into another category. In this case, we can place the states starting from 'Himachal Pradesh' till 'Tamil Nadu' in the low occurence bin. "
      ]
    },
    {
      "cell_type": "code",
      "metadata": {
        "id": "Czv-8-zgGUdU"
      },
      "source": [
        "#Lets drop the fields Area, City, ZiPCODE, BranchID and ID\r\n",
        "train_df.drop(['Area', 'City', 'ZiPCODE', 'BranchID', 'ID'], axis=1, inplace=True)"
      ],
      "execution_count": 315,
      "outputs": []
    },
    {
      "cell_type": "code",
      "metadata": {
        "colab": {
          "base_uri": "https://localhost:8080/"
        },
        "id": "RvbbUTlzG3Lh",
        "outputId": "01365c7a-ee9e-4808-801c-4261a2e3d34e"
      },
      "source": [
        "train_df.info()"
      ],
      "execution_count": 316,
      "outputs": [
        {
          "output_type": "stream",
          "text": [
            "<class 'pandas.core.frame.DataFrame'>\n",
            "Int64Index: 128654 entries, 0 to 128654\n",
            "Data columns (total 21 columns):\n",
            " #   Column           Non-Null Count   Dtype         \n",
            "---  ------           --------------   -----         \n",
            " 0   Frequency        128654 non-null  object        \n",
            " 1   InstlmentMode    128654 non-null  object        \n",
            " 2   LoanStatus       128654 non-null  object        \n",
            " 3   PaymentMode      128654 non-null  object        \n",
            " 4   Tenure           128654 non-null  int64         \n",
            " 5   AssetCost        128654 non-null  int64         \n",
            " 6   AmountFinance    128654 non-null  float64       \n",
            " 7   DisbursalAmount  128654 non-null  float64       \n",
            " 8   EMI              128654 non-null  float64       \n",
            " 9   DisbursalDate    128654 non-null  datetime64[ns]\n",
            " 10  MaturityDAte     128654 non-null  datetime64[ns]\n",
            " 11  AuthDate         128654 non-null  datetime64[ns]\n",
            " 12  AssetID          128654 non-null  int64         \n",
            " 13  ManufacturerID   128654 non-null  int64         \n",
            " 14  SupplierID       128654 non-null  int64         \n",
            " 15  LTV              128654 non-null  float64       \n",
            " 16  SEX              128595 non-null  object        \n",
            " 17  AGE              128595 non-null  float64       \n",
            " 18  MonthlyIncome    128420 non-null  float64       \n",
            " 19  State            128654 non-null  object        \n",
            " 20  Top-up Month     128654 non-null  object        \n",
            "dtypes: datetime64[ns](3), float64(6), int64(5), object(7)\n",
            "memory usage: 21.6+ MB\n"
          ],
          "name": "stdout"
        }
      ]
    },
    {
      "cell_type": "code",
      "metadata": {
        "colab": {
          "base_uri": "https://localhost:8080/"
        },
        "id": "npDNfhHfG4hS",
        "outputId": "8a69afb3-b349-4d6c-d9f8-fcc557208d5e"
      },
      "source": [
        "#lets try to fill in the data for AGE, SEX and MonthlyIncome\r\n",
        "train_df['SEX'].unique()"
      ],
      "execution_count": 317,
      "outputs": [
        {
          "output_type": "execute_result",
          "data": {
            "text/plain": [
              "array(['M', nan, 'F'], dtype=object)"
            ]
          },
          "metadata": {
            "tags": []
          },
          "execution_count": 317
        }
      ]
    },
    {
      "cell_type": "code",
      "metadata": {
        "colab": {
          "base_uri": "https://localhost:8080/"
        },
        "id": "3D9n7wlbHAk0",
        "outputId": "0d4ee1a4-6ccb-42b6-dba2-8c339b593cf0"
      },
      "source": [
        "train_df['SEX'].value_counts()"
      ],
      "execution_count": 318,
      "outputs": [
        {
          "output_type": "execute_result",
          "data": {
            "text/plain": [
              "M    122143\n",
              "F      6452\n",
              "Name: SEX, dtype: int64"
            ]
          },
          "metadata": {
            "tags": []
          },
          "execution_count": 318
        }
      ]
    },
    {
      "cell_type": "code",
      "metadata": {
        "colab": {
          "base_uri": "https://localhost:8080/",
          "height": 103
        },
        "id": "TMNsC-K7Jpvz",
        "outputId": "7d3084c3-6385-473a-d313-fa55b294e40e"
      },
      "source": [
        "#we have some date fields in the file (i.e) DisbursalDate, MaturityDAte and AuthDate\r\n",
        "#let's convert them into meaningful information, one way to form a pattern is finding the difference between the dates\r\n",
        "\r\n",
        "#we can find the difference between disbursal data and maturity date\r\n",
        "#check whether any records have disbursal date greater than the maturity date\r\n",
        "train_df[train_df['DisbursalDate'] > train_df['MaturityDAte']]"
      ],
      "execution_count": 319,
      "outputs": [
        {
          "output_type": "execute_result",
          "data": {
            "text/html": [
              "<div>\n",
              "<style scoped>\n",
              "    .dataframe tbody tr th:only-of-type {\n",
              "        vertical-align: middle;\n",
              "    }\n",
              "\n",
              "    .dataframe tbody tr th {\n",
              "        vertical-align: top;\n",
              "    }\n",
              "\n",
              "    .dataframe thead th {\n",
              "        text-align: right;\n",
              "    }\n",
              "</style>\n",
              "<table border=\"1\" class=\"dataframe\">\n",
              "  <thead>\n",
              "    <tr style=\"text-align: right;\">\n",
              "      <th></th>\n",
              "      <th>Frequency</th>\n",
              "      <th>InstlmentMode</th>\n",
              "      <th>LoanStatus</th>\n",
              "      <th>PaymentMode</th>\n",
              "      <th>Tenure</th>\n",
              "      <th>AssetCost</th>\n",
              "      <th>AmountFinance</th>\n",
              "      <th>DisbursalAmount</th>\n",
              "      <th>EMI</th>\n",
              "      <th>DisbursalDate</th>\n",
              "      <th>MaturityDAte</th>\n",
              "      <th>AuthDate</th>\n",
              "      <th>AssetID</th>\n",
              "      <th>ManufacturerID</th>\n",
              "      <th>SupplierID</th>\n",
              "      <th>LTV</th>\n",
              "      <th>SEX</th>\n",
              "      <th>AGE</th>\n",
              "      <th>MonthlyIncome</th>\n",
              "      <th>State</th>\n",
              "      <th>Top-up Month</th>\n",
              "    </tr>\n",
              "  </thead>\n",
              "  <tbody>\n",
              "  </tbody>\n",
              "</table>\n",
              "</div>"
            ],
            "text/plain": [
              "Empty DataFrame\n",
              "Columns: [Frequency, InstlmentMode, LoanStatus, PaymentMode, Tenure, AssetCost, AmountFinance, DisbursalAmount, EMI, DisbursalDate, MaturityDAte, AuthDate, AssetID, ManufacturerID, SupplierID, LTV, SEX, AGE, MonthlyIncome, State, Top-up Month]\n",
              "Index: []"
            ]
          },
          "metadata": {
            "tags": []
          },
          "execution_count": 319
        }
      ]
    },
    {
      "cell_type": "markdown",
      "metadata": {
        "id": "BfyTD8iIK4m_"
      },
      "source": [
        "None of the records satisfy the condition."
      ]
    },
    {
      "cell_type": "code",
      "metadata": {
        "id": "Vo-cML1MJ_6l"
      },
      "source": [
        "train_df['maturity_disburs'] = (train_df['MaturityDAte'] - train_df['DisbursalDate']).dt.days\r\n",
        "train_df['maturity_Auth'] = (train_df['MaturityDAte'] - train_df['AuthDate']).dt.days\r\n"
      ],
      "execution_count": 358,
      "outputs": []
    },
    {
      "cell_type": "code",
      "metadata": {
        "id": "dT15sRztLJyI"
      },
      "source": [
        "#we can drop 'MaturityDAte', 'DisbursalDate' and 'AuthDate'\r\n",
        "train_df.drop(['MaturityDAte', 'DisbursalDate', 'AuthDate'], axis=1, inplace=True)"
      ],
      "execution_count": 360,
      "outputs": []
    },
    {
      "cell_type": "code",
      "metadata": {
        "id": "Mb4MB8CALMMj",
        "colab": {
          "base_uri": "https://localhost:8080/"
        },
        "outputId": "12225fd3-9551-494b-ef45-e4a99d75364b"
      },
      "source": [
        "train_df.info()"
      ],
      "execution_count": 362,
      "outputs": [
        {
          "output_type": "stream",
          "text": [
            "<class 'pandas.core.frame.DataFrame'>\n",
            "Int64Index: 128654 entries, 0 to 128654\n",
            "Data columns (total 20 columns):\n",
            " #   Column            Non-Null Count   Dtype  \n",
            "---  ------            --------------   -----  \n",
            " 0   Frequency         128654 non-null  object \n",
            " 1   InstlmentMode     128654 non-null  object \n",
            " 2   LoanStatus        128654 non-null  object \n",
            " 3   PaymentMode       128654 non-null  object \n",
            " 4   Tenure            128654 non-null  int64  \n",
            " 5   AssetCost         128654 non-null  int64  \n",
            " 6   AmountFinance     128654 non-null  float64\n",
            " 7   DisbursalAmount   128654 non-null  float64\n",
            " 8   EMI               128654 non-null  float64\n",
            " 9   AssetID           128654 non-null  int64  \n",
            " 10  ManufacturerID    128654 non-null  int64  \n",
            " 11  SupplierID        128654 non-null  int64  \n",
            " 12  LTV               128654 non-null  float64\n",
            " 13  SEX               128595 non-null  object \n",
            " 14  AGE               128595 non-null  float64\n",
            " 15  MonthlyIncome     128420 non-null  float64\n",
            " 16  State             128654 non-null  object \n",
            " 17  Top-up Month      128654 non-null  object \n",
            " 18  maturity_disburs  128654 non-null  int64  \n",
            " 19  maturity_Auth     128654 non-null  int64  \n",
            "dtypes: float64(6), int64(7), object(7)\n",
            "memory usage: 20.6+ MB\n"
          ],
          "name": "stdout"
        }
      ]
    },
    {
      "cell_type": "code",
      "metadata": {
        "colab": {
          "base_uri": "https://localhost:8080/"
        },
        "id": "S5gemwGKUn0g",
        "outputId": "2ad16a95-dd1e-4ac0-e226-3eb408f73ab5"
      },
      "source": [
        "#There are some ID fields , lets see wether they are meaningful\r\n",
        "print('unique values in the AssetID field:', train_df['AssetID'].nunique())\r\n",
        "print('unique values in the ManufacturerID field:', train_df['ManufacturerID'].nunique())\r\n",
        "print('unique values in the SupplierID field:', train_df['SupplierID'].nunique())"
      ],
      "execution_count": 364,
      "outputs": [
        {
          "output_type": "stream",
          "text": [
            "unique values in the AssetID field: 128654\n",
            "unique values in the ManufacturerID field: 10\n",
            "unique values in the SupplierID field: 4539\n"
          ],
          "name": "stdout"
        }
      ]
    },
    {
      "cell_type": "code",
      "metadata": {
        "colab": {
          "base_uri": "https://localhost:8080/"
        },
        "id": "SFHh_hILU-lU",
        "outputId": "19793b5a-30bf-426b-9a7a-c269304aa9db"
      },
      "source": [
        "count = train_df['SupplierID'].value_counts()\r\n",
        "count[count < 2]"
      ],
      "execution_count": 366,
      "outputs": [
        {
          "output_type": "execute_result",
          "data": {
            "text/plain": [
              "58604     1\n",
              "85017     1\n",
              "138503    1\n",
              "37282     1\n",
              "140533    1\n",
              "         ..\n",
              "125748    1\n",
              "105362    1\n",
              "41757     1\n",
              "140389    1\n",
              "137117    1\n",
              "Name: SupplierID, Length: 711, dtype: int64"
            ]
          },
          "metadata": {
            "tags": []
          },
          "execution_count": 366
        }
      ]
    },
    {
      "cell_type": "markdown",
      "metadata": {
        "id": "w2VraUUEVXho"
      },
      "source": [
        "There are 711 records with SupplierID with values '1'. So we can drop it as there is no sufficient data for each supplier id. \r\n",
        "\r\n",
        "Asset ID looks like a running sequence number generated for each record, this can also be discarded. "
      ]
    },
    {
      "cell_type": "code",
      "metadata": {
        "id": "x1SajZrwVPG_"
      },
      "source": [
        "#retaining only manufacturer ID and dropping AssetID and SupplierID\r\n",
        "train_df.drop(['SupplierID', 'AssetID'], axis=1, inplace=True)"
      ],
      "execution_count": 370,
      "outputs": []
    },
    {
      "cell_type": "code",
      "metadata": {
        "colab": {
          "base_uri": "https://localhost:8080/"
        },
        "id": "IufeeuS2VwjB",
        "outputId": "d7304f09-aae5-4c77-ee11-6b0ef4d2c1a8"
      },
      "source": [
        "train_df.info()"
      ],
      "execution_count": 372,
      "outputs": [
        {
          "output_type": "stream",
          "text": [
            "<class 'pandas.core.frame.DataFrame'>\n",
            "Int64Index: 128654 entries, 0 to 128654\n",
            "Data columns (total 18 columns):\n",
            " #   Column            Non-Null Count   Dtype  \n",
            "---  ------            --------------   -----  \n",
            " 0   Frequency         128654 non-null  object \n",
            " 1   InstlmentMode     128654 non-null  object \n",
            " 2   LoanStatus        128654 non-null  object \n",
            " 3   PaymentMode       128654 non-null  object \n",
            " 4   Tenure            128654 non-null  int64  \n",
            " 5   AssetCost         128654 non-null  int64  \n",
            " 6   AmountFinance     128654 non-null  float64\n",
            " 7   DisbursalAmount   128654 non-null  float64\n",
            " 8   EMI               128654 non-null  float64\n",
            " 9   ManufacturerID    128654 non-null  int64  \n",
            " 10  LTV               128654 non-null  float64\n",
            " 11  SEX               128595 non-null  object \n",
            " 12  AGE               128595 non-null  float64\n",
            " 13  MonthlyIncome     128420 non-null  float64\n",
            " 14  State             128654 non-null  object \n",
            " 15  Top-up Month      128654 non-null  object \n",
            " 16  maturity_disburs  128654 non-null  int64  \n",
            " 17  maturity_Auth     128654 non-null  int64  \n",
            "dtypes: float64(6), int64(5), object(7)\n",
            "memory usage: 18.6+ MB\n"
          ],
          "name": "stdout"
        }
      ]
    },
    {
      "cell_type": "code",
      "metadata": {
        "colab": {
          "base_uri": "https://localhost:8080/",
          "height": 263
        },
        "id": "hUImDY33WS8W",
        "outputId": "356949b2-1ed3-46e7-80c1-2787f5bb0649"
      },
      "source": [
        "#let's find the correlation between the variables\r\n",
        "\r\n",
        "num_cols = train_df.select_dtypes(include=['int64', 'float64']).columns\r\n",
        "obj_cols = train_df.select_dtypes(include='object').columns\r\n",
        "\r\n",
        "chisquare_df = pd.DataFrame([], columns=obj_cols, index = obj_cols)\r\n",
        "#calculate the pvalue from chisquare stats\r\n",
        "for i in obj_cols:            \r\n",
        "    for j in obj_cols:            \r\n",
        "        cont = pd.crosstab(train_df[i], train_df[j])  \r\n",
        "        chisquare_df.loc[i,j] = chi2_contingency(cont)[1]        \r\n",
        "\r\n",
        "chisquare_df"
      ],
      "execution_count": 391,
      "outputs": [
        {
          "output_type": "execute_result",
          "data": {
            "text/html": [
              "<div>\n",
              "<style scoped>\n",
              "    .dataframe tbody tr th:only-of-type {\n",
              "        vertical-align: middle;\n",
              "    }\n",
              "\n",
              "    .dataframe tbody tr th {\n",
              "        vertical-align: top;\n",
              "    }\n",
              "\n",
              "    .dataframe thead th {\n",
              "        text-align: right;\n",
              "    }\n",
              "</style>\n",
              "<table border=\"1\" class=\"dataframe\">\n",
              "  <thead>\n",
              "    <tr style=\"text-align: right;\">\n",
              "      <th></th>\n",
              "      <th>Frequency</th>\n",
              "      <th>InstlmentMode</th>\n",
              "      <th>LoanStatus</th>\n",
              "      <th>PaymentMode</th>\n",
              "      <th>SEX</th>\n",
              "      <th>State</th>\n",
              "      <th>Topup</th>\n",
              "    </tr>\n",
              "  </thead>\n",
              "  <tbody>\n",
              "    <tr>\n",
              "      <th>Frequency</th>\n",
              "      <td>0</td>\n",
              "      <td>0</td>\n",
              "      <td>0</td>\n",
              "      <td>0</td>\n",
              "      <td>6.54799e-78</td>\n",
              "      <td>0</td>\n",
              "      <td>0</td>\n",
              "    </tr>\n",
              "    <tr>\n",
              "      <th>InstlmentMode</th>\n",
              "      <td>0</td>\n",
              "      <td>0</td>\n",
              "      <td>0.877374</td>\n",
              "      <td>0</td>\n",
              "      <td>0.667544</td>\n",
              "      <td>0</td>\n",
              "      <td>1.48663e-31</td>\n",
              "    </tr>\n",
              "    <tr>\n",
              "      <th>LoanStatus</th>\n",
              "      <td>0</td>\n",
              "      <td>0.877374</td>\n",
              "      <td>0</td>\n",
              "      <td>0</td>\n",
              "      <td>5.18031e-70</td>\n",
              "      <td>0</td>\n",
              "      <td>0</td>\n",
              "    </tr>\n",
              "    <tr>\n",
              "      <th>PaymentMode</th>\n",
              "      <td>0</td>\n",
              "      <td>0</td>\n",
              "      <td>0</td>\n",
              "      <td>0</td>\n",
              "      <td>6.57439e-277</td>\n",
              "      <td>0</td>\n",
              "      <td>0</td>\n",
              "    </tr>\n",
              "    <tr>\n",
              "      <th>SEX</th>\n",
              "      <td>6.54799e-78</td>\n",
              "      <td>0.667544</td>\n",
              "      <td>5.18031e-70</td>\n",
              "      <td>6.57439e-277</td>\n",
              "      <td>0</td>\n",
              "      <td>0</td>\n",
              "      <td>4.42296e-40</td>\n",
              "    </tr>\n",
              "    <tr>\n",
              "      <th>State</th>\n",
              "      <td>0</td>\n",
              "      <td>0</td>\n",
              "      <td>0</td>\n",
              "      <td>0</td>\n",
              "      <td>0</td>\n",
              "      <td>0</td>\n",
              "      <td>0</td>\n",
              "    </tr>\n",
              "    <tr>\n",
              "      <th>Topup</th>\n",
              "      <td>0</td>\n",
              "      <td>1.48663e-31</td>\n",
              "      <td>0</td>\n",
              "      <td>0</td>\n",
              "      <td>4.42296e-40</td>\n",
              "      <td>0</td>\n",
              "      <td>0</td>\n",
              "    </tr>\n",
              "  </tbody>\n",
              "</table>\n",
              "</div>"
            ],
            "text/plain": [
              "                 Frequency InstlmentMode  ... State        Topup\n",
              "Frequency                0             0  ...     0            0\n",
              "InstlmentMode            0             0  ...     0  1.48663e-31\n",
              "LoanStatus               0      0.877374  ...     0            0\n",
              "PaymentMode              0             0  ...     0            0\n",
              "SEX            6.54799e-78      0.667544  ...     0  4.42296e-40\n",
              "State                    0             0  ...     0            0\n",
              "Topup                    0   1.48663e-31  ...     0            0\n",
              "\n",
              "[7 rows x 7 columns]"
            ]
          },
          "metadata": {
            "tags": []
          },
          "execution_count": 391
        }
      ]
    },
    {
      "cell_type": "code",
      "metadata": {
        "id": "3-T89Lt3Z7DZ"
      },
      "source": [
        "train_df.columns = ['Frequency', 'InstlmentMode', 'LoanStatus', 'PaymentMode', 'Tenure',\r\n",
        "       'AssetCost', 'AmountFinance', 'DisbursalAmount', 'EMI',\r\n",
        "       'ManufacturerID', 'LTV', 'SEX', 'AGE', 'MonthlyIncome', 'State',\r\n",
        "       'Topup', 'maturity_disburs', 'maturity_Auth']"
      ],
      "execution_count": 392,
      "outputs": []
    },
    {
      "cell_type": "code",
      "metadata": {
        "colab": {
          "base_uri": "https://localhost:8080/",
          "height": 386
        },
        "id": "HxfbB4kvXkbl",
        "outputId": "aeb1b7f1-d3bd-4b3f-a762-a9be1ab651ba"
      },
      "source": [
        "#using oneway anova, we can find the relation between the continuous and discrete variable\r\n",
        "anova_result = pd.DataFrame([])\r\n",
        "num_cols = train_df.select_dtypes(include=['int64', 'float64']).columns\r\n",
        "obj_cols = train_df.select_dtypes(include='object').columns\r\n",
        "\r\n",
        "#applying anova test for continuous variable and discrete variables\r\n",
        "for i in num_cols:\r\n",
        "    for j in obj_cols:        \r\n",
        "        model = ols(i+' ~ C('+j+')', train_df).fit()\r\n",
        "        anova_result.loc[i,j] = sm.stats.anova_lm(model,typ=1).iloc[0]['PR(>F)']\r\n",
        "        \r\n",
        "anova_result"
      ],
      "execution_count": 393,
      "outputs": [
        {
          "output_type": "execute_result",
          "data": {
            "text/html": [
              "<div>\n",
              "<style scoped>\n",
              "    .dataframe tbody tr th:only-of-type {\n",
              "        vertical-align: middle;\n",
              "    }\n",
              "\n",
              "    .dataframe tbody tr th {\n",
              "        vertical-align: top;\n",
              "    }\n",
              "\n",
              "    .dataframe thead th {\n",
              "        text-align: right;\n",
              "    }\n",
              "</style>\n",
              "<table border=\"1\" class=\"dataframe\">\n",
              "  <thead>\n",
              "    <tr style=\"text-align: right;\">\n",
              "      <th></th>\n",
              "      <th>Frequency</th>\n",
              "      <th>InstlmentMode</th>\n",
              "      <th>LoanStatus</th>\n",
              "      <th>PaymentMode</th>\n",
              "      <th>SEX</th>\n",
              "      <th>State</th>\n",
              "      <th>Topup</th>\n",
              "    </tr>\n",
              "  </thead>\n",
              "  <tbody>\n",
              "    <tr>\n",
              "      <th>Tenure</th>\n",
              "      <td>0.000000e+00</td>\n",
              "      <td>2.180266e-16</td>\n",
              "      <td>0.000000e+00</td>\n",
              "      <td>3.725349e-143</td>\n",
              "      <td>4.674800e-04</td>\n",
              "      <td>0.00000</td>\n",
              "      <td>4.769020e-148</td>\n",
              "    </tr>\n",
              "    <tr>\n",
              "      <th>AssetCost</th>\n",
              "      <td>0.000000e+00</td>\n",
              "      <td>3.726745e-27</td>\n",
              "      <td>0.000000e+00</td>\n",
              "      <td>0.000000e+00</td>\n",
              "      <td>2.671591e-41</td>\n",
              "      <td>0.00000</td>\n",
              "      <td>4.594715e-196</td>\n",
              "    </tr>\n",
              "    <tr>\n",
              "      <th>AmountFinance</th>\n",
              "      <td>0.000000e+00</td>\n",
              "      <td>1.180110e-16</td>\n",
              "      <td>0.000000e+00</td>\n",
              "      <td>0.000000e+00</td>\n",
              "      <td>1.079634e-43</td>\n",
              "      <td>0.00000</td>\n",
              "      <td>0.000000e+00</td>\n",
              "    </tr>\n",
              "    <tr>\n",
              "      <th>DisbursalAmount</th>\n",
              "      <td>0.000000e+00</td>\n",
              "      <td>1.260831e-18</td>\n",
              "      <td>0.000000e+00</td>\n",
              "      <td>0.000000e+00</td>\n",
              "      <td>1.821062e-43</td>\n",
              "      <td>0.00000</td>\n",
              "      <td>0.000000e+00</td>\n",
              "    </tr>\n",
              "    <tr>\n",
              "      <th>EMI</th>\n",
              "      <td>0.000000e+00</td>\n",
              "      <td>0.000000e+00</td>\n",
              "      <td>1.383611e-02</td>\n",
              "      <td>0.000000e+00</td>\n",
              "      <td>2.402796e-05</td>\n",
              "      <td>0.00000</td>\n",
              "      <td>5.331581e-57</td>\n",
              "    </tr>\n",
              "    <tr>\n",
              "      <th>ManufacturerID</th>\n",
              "      <td>1.274776e-29</td>\n",
              "      <td>2.869483e-30</td>\n",
              "      <td>1.812661e-02</td>\n",
              "      <td>4.941458e-11</td>\n",
              "      <td>5.191577e-01</td>\n",
              "      <td>0.00000</td>\n",
              "      <td>1.261373e-06</td>\n",
              "    </tr>\n",
              "    <tr>\n",
              "      <th>LTV</th>\n",
              "      <td>0.000000e+00</td>\n",
              "      <td>3.920699e-27</td>\n",
              "      <td>0.000000e+00</td>\n",
              "      <td>0.000000e+00</td>\n",
              "      <td>9.759461e-09</td>\n",
              "      <td>0.00000</td>\n",
              "      <td>7.279570e-287</td>\n",
              "    </tr>\n",
              "    <tr>\n",
              "      <th>AGE</th>\n",
              "      <td>5.463808e-166</td>\n",
              "      <td>1.692776e-26</td>\n",
              "      <td>1.230891e-92</td>\n",
              "      <td>1.378557e-49</td>\n",
              "      <td>1.694797e-117</td>\n",
              "      <td>0.00000</td>\n",
              "      <td>3.797218e-13</td>\n",
              "    </tr>\n",
              "    <tr>\n",
              "      <th>MonthlyIncome</th>\n",
              "      <td>1.251072e-01</td>\n",
              "      <td>5.883305e-01</td>\n",
              "      <td>1.587327e-02</td>\n",
              "      <td>5.404446e-01</td>\n",
              "      <td>9.177333e-01</td>\n",
              "      <td>0.89842</td>\n",
              "      <td>9.997929e-01</td>\n",
              "    </tr>\n",
              "    <tr>\n",
              "      <th>maturity_disburs</th>\n",
              "      <td>0.000000e+00</td>\n",
              "      <td>4.722034e-74</td>\n",
              "      <td>0.000000e+00</td>\n",
              "      <td>0.000000e+00</td>\n",
              "      <td>5.949686e-02</td>\n",
              "      <td>0.00000</td>\n",
              "      <td>0.000000e+00</td>\n",
              "    </tr>\n",
              "    <tr>\n",
              "      <th>maturity_Auth</th>\n",
              "      <td>0.000000e+00</td>\n",
              "      <td>4.114778e-74</td>\n",
              "      <td>0.000000e+00</td>\n",
              "      <td>0.000000e+00</td>\n",
              "      <td>5.875910e-02</td>\n",
              "      <td>0.00000</td>\n",
              "      <td>0.000000e+00</td>\n",
              "    </tr>\n",
              "  </tbody>\n",
              "</table>\n",
              "</div>"
            ],
            "text/plain": [
              "                      Frequency  InstlmentMode  ...    State          Topup\n",
              "Tenure             0.000000e+00   2.180266e-16  ...  0.00000  4.769020e-148\n",
              "AssetCost          0.000000e+00   3.726745e-27  ...  0.00000  4.594715e-196\n",
              "AmountFinance      0.000000e+00   1.180110e-16  ...  0.00000   0.000000e+00\n",
              "DisbursalAmount    0.000000e+00   1.260831e-18  ...  0.00000   0.000000e+00\n",
              "EMI                0.000000e+00   0.000000e+00  ...  0.00000   5.331581e-57\n",
              "ManufacturerID     1.274776e-29   2.869483e-30  ...  0.00000   1.261373e-06\n",
              "LTV                0.000000e+00   3.920699e-27  ...  0.00000  7.279570e-287\n",
              "AGE               5.463808e-166   1.692776e-26  ...  0.00000   3.797218e-13\n",
              "MonthlyIncome      1.251072e-01   5.883305e-01  ...  0.89842   9.997929e-01\n",
              "maturity_disburs   0.000000e+00   4.722034e-74  ...  0.00000   0.000000e+00\n",
              "maturity_Auth      0.000000e+00   4.114778e-74  ...  0.00000   0.000000e+00\n",
              "\n",
              "[11 rows x 7 columns]"
            ]
          },
          "metadata": {
            "tags": []
          },
          "execution_count": 393
        }
      ]
    },
    {
      "cell_type": "markdown",
      "metadata": {
        "id": "LXfANtMEh6ax"
      },
      "source": [
        "'AGE' & 'SEX' are strongly correlated."
      ]
    },
    {
      "cell_type": "code",
      "metadata": {
        "colab": {
          "base_uri": "https://localhost:8080/",
          "height": 417
        },
        "id": "LX2ynDhEZslS",
        "outputId": "bb01cc89-402d-48bd-fc57-a54c876d67fb"
      },
      "source": [
        "plt.figure(figsize=(10,5))\r\n",
        "sns.heatmap(train_df.corr(), linewidth=1, annot=True)"
      ],
      "execution_count": 400,
      "outputs": [
        {
          "output_type": "execute_result",
          "data": {
            "text/plain": [
              "<matplotlib.axes._subplots.AxesSubplot at 0x7efe62075a90>"
            ]
          },
          "metadata": {
            "tags": []
          },
          "execution_count": 400
        },
        {
          "output_type": "display_data",
          "data": {
            "image/png": "[encoded data removed]",
            "text/plain": [
              "<Figure size 720x360 with 2 Axes>"
            ]
          },
          "metadata": {
            "tags": [],
            "needs_background": "light"
          }
        }
      ]
    },
    {
      "cell_type": "markdown",
      "metadata": {
        "id": "gbxh9cH_i07W"
      },
      "source": [
        "1) 'AmountFinance' & 'DisbursalAmount' are 100% correlated. So we can drop 'AmountFinance'.\r\n",
        "\r\n",
        "2) 'maturity_disburs' & 'maturity_Auth' are 100% correlated. So we can drop 'maturity_Auth'."
      ]
    },
    {
      "cell_type": "code",
      "metadata": {
        "id": "xMc748sHiKtx"
      },
      "source": [
        "train_df.drop(['AmountFinance', 'maturity_Auth'], axis=1, inplace=True)"
      ],
      "execution_count": 403,
      "outputs": []
    },
    {
      "cell_type": "code",
      "metadata": {
        "colab": {
          "base_uri": "https://localhost:8080/"
        },
        "id": "OQuWc8fvjS5N",
        "outputId": "7553c3d9-27e0-4532-a2a4-bca7aceea86b"
      },
      "source": [
        "train_df.info()"
      ],
      "execution_count": 404,
      "outputs": [
        {
          "output_type": "stream",
          "text": [
            "<class 'pandas.core.frame.DataFrame'>\n",
            "Int64Index: 128654 entries, 0 to 128654\n",
            "Data columns (total 16 columns):\n",
            " #   Column            Non-Null Count   Dtype  \n",
            "---  ------            --------------   -----  \n",
            " 0   Frequency         128654 non-null  object \n",
            " 1   InstlmentMode     128654 non-null  object \n",
            " 2   LoanStatus        128654 non-null  object \n",
            " 3   PaymentMode       128654 non-null  object \n",
            " 4   Tenure            128654 non-null  int64  \n",
            " 5   AssetCost         128654 non-null  int64  \n",
            " 6   DisbursalAmount   128654 non-null  float64\n",
            " 7   EMI               128654 non-null  float64\n",
            " 8   ManufacturerID    128654 non-null  int64  \n",
            " 9   LTV               128654 non-null  float64\n",
            " 10  SEX               128595 non-null  object \n",
            " 11  AGE               128595 non-null  float64\n",
            " 12  MonthlyIncome     128420 non-null  float64\n",
            " 13  State             128654 non-null  object \n",
            " 14  Topup             128654 non-null  object \n",
            " 15  maturity_disburs  128654 non-null  int64  \n",
            "dtypes: float64(5), int64(4), object(7)\n",
            "memory usage: 16.7+ MB\n"
          ],
          "name": "stdout"
        }
      ]
    },
    {
      "cell_type": "code",
      "metadata": {
        "id": "LF0us0V1jgUT"
      },
      "source": [
        "#we will be using iterative imputer to impute the values\r\n",
        "iter = IterativeImputer()"
      ],
      "execution_count": 406,
      "outputs": []
    },
    {
      "cell_type": "markdown",
      "metadata": {
        "id": "e2L8mlIHlWWA"
      },
      "source": [
        "!!! Important Note !!! whenever we do imputation, the target variable should always be dropped."
      ]
    },
    {
      "cell_type": "code",
      "metadata": {
        "id": "dlvUkXydklNR"
      },
      "source": [
        "train_df.drop('Topup', axis=1, inplace=True)"
      ],
      "execution_count": 409,
      "outputs": []
    },
    {
      "cell_type": "code",
      "metadata": {
        "id": "QZ-UDZqFlity"
      },
      "source": [
        "#before giving the values to the iterative imputer, we need to convert the categorical into one hot encoded values\r\n",
        "#this time we will use pd.get_dummies to achieve the same since we are using only training data\r\n",
        "#But usually one hot encoder is recommended, since it has fit and transform functions\r\n",
        "new_df = pd.get_dummies(train_df, drop_first=True)"
      ],
      "execution_count": 411,
      "outputs": []
    },
    {
      "cell_type": "code",
      "metadata": {
        "colab": {
          "base_uri": "https://localhost:8080/"
        },
        "id": "Cc1gXHR-ljwF",
        "outputId": "7ea11a0b-40a8-474e-d238-d7f4f89b2633"
      },
      "source": [
        "iter.fit(new_df)"
      ],
      "execution_count": 413,
      "outputs": [
        {
          "output_type": "execute_result",
          "data": {
            "text/plain": [
              "IterativeImputer(add_indicator=False, estimator=None,\n",
              "                 imputation_order='ascending', initial_strategy='mean',\n",
              "                 max_iter=10, max_value=None, min_value=None,\n",
              "                 missing_values=nan, n_nearest_features=None, random_state=None,\n",
              "                 sample_posterior=False, skip_complete=False, tol=0.001,\n",
              "                 verbose=0)"
            ]
          },
          "metadata": {
            "tags": []
          },
          "execution_count": 413
        }
      ]
    },
    {
      "cell_type": "code",
      "metadata": {
        "id": "TZ3L-VsClqiZ"
      },
      "source": [
        "finalised_df = pd.DataFrame(iter.transform(new_df), columns=new_df.columns)"
      ],
      "execution_count": 416,
      "outputs": []
    },
    {
      "cell_type": "code",
      "metadata": {
        "id": "IwD1AsBxmBuY"
      },
      "source": [
        "finalised_df['SEX_M'] = np.round(finalised_df['SEX_M'])\r\n",
        "finalised_df['AGE'] = np.round(finalised_df['AGE'])"
      ],
      "execution_count": 430,
      "outputs": []
    },
    {
      "cell_type": "code",
      "metadata": {
        "colab": {
          "base_uri": "https://localhost:8080/"
        },
        "id": "Zq1sNMeCmV-j",
        "outputId": "a2260110-e055-4ead-e929-8720ad6474f8"
      },
      "source": [
        "finalised_df.info()"
      ],
      "execution_count": 431,
      "outputs": [
        {
          "output_type": "stream",
          "text": [
            "<class 'pandas.core.frame.DataFrame'>\n",
            "RangeIndex: 128654 entries, 0 to 128653\n",
            "Data columns (total 46 columns):\n",
            " #   Column                        Non-Null Count   Dtype  \n",
            "---  ------                        --------------   -----  \n",
            " 0   Tenure                        128654 non-null  float64\n",
            " 1   AssetCost                     128654 non-null  float64\n",
            " 2   DisbursalAmount               128654 non-null  float64\n",
            " 3   EMI                           128654 non-null  float64\n",
            " 4   ManufacturerID                128654 non-null  float64\n",
            " 5   LTV                           128654 non-null  float64\n",
            " 6   AGE                           128654 non-null  float64\n",
            " 7   MonthlyIncome                 128654 non-null  float64\n",
            " 8   maturity_disburs              128654 non-null  float64\n",
            " 9   Frequency_Half Yearly         128654 non-null  float64\n",
            " 10  Frequency_Monthly             128654 non-null  float64\n",
            " 11  Frequency_Quatrly             128654 non-null  float64\n",
            " 12  InstlmentMode_Arrear          128654 non-null  float64\n",
            " 13  LoanStatus_Closed             128654 non-null  float64\n",
            " 14  PaymentMode_Billed            128654 non-null  float64\n",
            " 15  PaymentMode_Cheque            128654 non-null  float64\n",
            " 16  PaymentMode_Direct Debit      128654 non-null  float64\n",
            " 17  PaymentMode_ECS               128654 non-null  float64\n",
            " 18  PaymentMode_ECS Reject        128654 non-null  float64\n",
            " 19  PaymentMode_Escrow            128654 non-null  float64\n",
            " 20  PaymentMode_PDC               128654 non-null  float64\n",
            " 21  PaymentMode_PDC Reject        128654 non-null  float64\n",
            " 22  PaymentMode_PDC_E             128654 non-null  float64\n",
            " 23  PaymentMode_SI Reject         128654 non-null  float64\n",
            " 24  SEX_M                         128654 non-null  float64\n",
            " 25  State_ASSAM                   128654 non-null  float64\n",
            " 26  State_BIHAR                   128654 non-null  float64\n",
            " 27  State_CHANDIGARH              128654 non-null  float64\n",
            " 28  State_CHATTISGARH             128654 non-null  float64\n",
            " 29  State_DADRA AND NAGAR HAVELI  128654 non-null  float64\n",
            " 30  State_DELHI                   128654 non-null  float64\n",
            " 31  State_GUJARAT                 128654 non-null  float64\n",
            " 32  State_HARYANA                 128654 non-null  float64\n",
            " 33  State_HIMACHAL PRADESH        128654 non-null  float64\n",
            " 34  State_JHARKHAND               128654 non-null  float64\n",
            " 35  State_KARNATAKA               128654 non-null  float64\n",
            " 36  State_MADHYA PRADESH          128654 non-null  float64\n",
            " 37  State_MAHARASHTRA             128654 non-null  float64\n",
            " 38  State_ORISSA                  128654 non-null  float64\n",
            " 39  State_PUNJAB                  128654 non-null  float64\n",
            " 40  State_RAJASTHAN               128654 non-null  float64\n",
            " 41  State_TAMIL NADU              128654 non-null  float64\n",
            " 42  State_TELANGANA               128654 non-null  float64\n",
            " 43  State_UTTAR PRADESH           128654 non-null  float64\n",
            " 44  State_UTTARAKHAND             128654 non-null  float64\n",
            " 45  State_WEST BENGAL             128654 non-null  float64\n",
            "dtypes: float64(46)\n",
            "memory usage: 45.2 MB\n"
          ],
          "name": "stdout"
        }
      ]
    },
    {
      "cell_type": "code",
      "metadata": {
        "colab": {
          "base_uri": "https://localhost:8080/"
        },
        "id": "9y0zHMoxmm52",
        "outputId": "9bf048b8-8e67-413e-9c0c-1be5e2cd1691"
      },
      "source": [
        "finalised_df.isna().sum()"
      ],
      "execution_count": 432,
      "outputs": [
        {
          "output_type": "execute_result",
          "data": {
            "text/plain": [
              "Tenure                          0\n",
              "AssetCost                       0\n",
              "DisbursalAmount                 0\n",
              "EMI                             0\n",
              "ManufacturerID                  0\n",
              "LTV                             0\n",
              "AGE                             0\n",
              "MonthlyIncome                   0\n",
              "maturity_disburs                0\n",
              "Frequency_Half Yearly           0\n",
              "Frequency_Monthly               0\n",
              "Frequency_Quatrly               0\n",
              "InstlmentMode_Arrear            0\n",
              "LoanStatus_Closed               0\n",
              "PaymentMode_Billed              0\n",
              "PaymentMode_Cheque              0\n",
              "PaymentMode_Direct Debit        0\n",
              "PaymentMode_ECS                 0\n",
              "PaymentMode_ECS Reject          0\n",
              "PaymentMode_Escrow              0\n",
              "PaymentMode_PDC                 0\n",
              "PaymentMode_PDC Reject          0\n",
              "PaymentMode_PDC_E               0\n",
              "PaymentMode_SI Reject           0\n",
              "SEX_M                           0\n",
              "State_ASSAM                     0\n",
              "State_BIHAR                     0\n",
              "State_CHANDIGARH                0\n",
              "State_CHATTISGARH               0\n",
              "State_DADRA AND NAGAR HAVELI    0\n",
              "State_DELHI                     0\n",
              "State_GUJARAT                   0\n",
              "State_HARYANA                   0\n",
              "State_HIMACHAL PRADESH          0\n",
              "State_JHARKHAND                 0\n",
              "State_KARNATAKA                 0\n",
              "State_MADHYA PRADESH            0\n",
              "State_MAHARASHTRA               0\n",
              "State_ORISSA                    0\n",
              "State_PUNJAB                    0\n",
              "State_RAJASTHAN                 0\n",
              "State_TAMIL NADU                0\n",
              "State_TELANGANA                 0\n",
              "State_UTTAR PRADESH             0\n",
              "State_UTTARAKHAND               0\n",
              "State_WEST BENGAL               0\n",
              "dtype: int64"
            ]
          },
          "metadata": {
            "tags": []
          },
          "execution_count": 432
        }
      ]
    },
    {
      "cell_type": "code",
      "metadata": {
        "id": "trKT5MQGnpeD"
      },
      "source": [
        ""
      ],
      "execution_count": null,
      "outputs": []
    }
  ]
}